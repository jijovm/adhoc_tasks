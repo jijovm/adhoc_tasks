{
 "cells": [
  {
   "cell_type": "markdown",
   "metadata": {},
   "source": [
    "This script is to find the school code for the requistions in the requisitions report. The school name is \n",
    "there in the req title followed by '-'. this script will split the title to get the school name"
   ]
  },
  {
   "cell_type": "code",
   "execution_count": null,
   "metadata": {},
   "outputs": [],
   "source": [
    "import pandas as pd\n",
    "\n",
    "## Read File\n",
    "req = pd.read_excel(\"File Path\\Reqschool.xlsx\")\n"
   ]
  },
  {
   "cell_type": "code",
   "execution_count": 2,
   "metadata": {},
   "outputs": [
    {
     "data": {
      "text/html": [
       "<div>\n",
       "<style scoped>\n",
       "    .dataframe tbody tr th:only-of-type {\n",
       "        vertical-align: middle;\n",
       "    }\n",
       "\n",
       "    .dataframe tbody tr th {\n",
       "        vertical-align: top;\n",
       "    }\n",
       "\n",
       "    .dataframe thead th {\n",
       "        text-align: right;\n",
       "    }\n",
       "</style>\n",
       "<table border=\"1\" class=\"dataframe\">\n",
       "  <thead>\n",
       "    <tr style=\"text-align: right;\">\n",
       "      <th></th>\n",
       "      <th>RequisitionNO</th>\n",
       "      <th>RequisitionTitle</th>\n",
       "      <th>ReqOrgLvl2</th>\n",
       "      <th>ReqOrgLvl3</th>\n",
       "      <th>Category</th>\n",
       "      <th>Function</th>\n",
       "      <th>ReqJusti</th>\n",
       "      <th>Openings</th>\n",
       "      <th>Grade</th>\n",
       "      <th>RecType</th>\n",
       "      <th>...</th>\n",
       "      <th>ReqEmpStatus</th>\n",
       "      <th>RoleType</th>\n",
       "      <th>CreationDate</th>\n",
       "      <th>Duration</th>\n",
       "      <th>ReqCurrentStatus</th>\n",
       "      <th>PostingDate</th>\n",
       "      <th>ClosingDate</th>\n",
       "      <th>LatestFilledDate</th>\n",
       "      <th>ApproveDate</th>\n",
       "      <th>NoOfAppComplete</th>\n",
       "    </tr>\n",
       "  </thead>\n",
       "  <tbody>\n",
       "    <tr>\n",
       "      <th>0</th>\n",
       "      <td>00006HV4</td>\n",
       "      <td>Teacher - Parkes High School</td>\n",
       "      <td>Teaching Service</td>\n",
       "      <td>NaN</td>\n",
       "      <td>Schools</td>\n",
       "      <td>Teachers</td>\n",
       "      <td>NaN</td>\n",
       "      <td>1.0</td>\n",
       "      <td>NaN</td>\n",
       "      <td>NaN</td>\n",
       "      <td>...</td>\n",
       "      <td>NaN</td>\n",
       "      <td>NaN</td>\n",
       "      <td>2018-09-18 08:52:07</td>\n",
       "      <td>NaN</td>\n",
       "      <td>Filled</td>\n",
       "      <td>NaT</td>\n",
       "      <td>NaT</td>\n",
       "      <td>2018-11-21 10:09:40</td>\n",
       "      <td>2018-09-18 09:08:52</td>\n",
       "      <td>1</td>\n",
       "    </tr>\n",
       "    <tr>\n",
       "      <th>1</th>\n",
       "      <td>00006HV5</td>\n",
       "      <td>Teacher - Blayney Public School</td>\n",
       "      <td>Teaching Service</td>\n",
       "      <td>NaN</td>\n",
       "      <td>Schools</td>\n",
       "      <td>Teachers</td>\n",
       "      <td>NaN</td>\n",
       "      <td>1.0</td>\n",
       "      <td>NaN</td>\n",
       "      <td>NaN</td>\n",
       "      <td>...</td>\n",
       "      <td>NaN</td>\n",
       "      <td>NaN</td>\n",
       "      <td>2018-09-18 08:52:19</td>\n",
       "      <td>NaN</td>\n",
       "      <td>Filled</td>\n",
       "      <td>NaT</td>\n",
       "      <td>NaT</td>\n",
       "      <td>2018-11-22 16:15:34</td>\n",
       "      <td>2018-09-18 09:08:47</td>\n",
       "      <td>1</td>\n",
       "    </tr>\n",
       "  </tbody>\n",
       "</table>\n",
       "<p>2 rows × 24 columns</p>\n",
       "</div>"
      ],
      "text/plain": [
       "  RequisitionNO                 RequisitionTitle        ReqOrgLvl2  \\\n",
       "0      00006HV4     Teacher - Parkes High School  Teaching Service   \n",
       "1      00006HV5  Teacher - Blayney Public School  Teaching Service   \n",
       "\n",
       "   ReqOrgLvl3 Category  Function  ReqJusti  Openings  Grade  RecType  \\\n",
       "0         NaN  Schools  Teachers       NaN       1.0    NaN      NaN   \n",
       "1         NaN  Schools  Teachers       NaN       1.0    NaN      NaN   \n",
       "\n",
       "        ...        ReqEmpStatus RoleType        CreationDate  Duration  \\\n",
       "0       ...                 NaN      NaN 2018-09-18 08:52:07       NaN   \n",
       "1       ...                 NaN      NaN 2018-09-18 08:52:19       NaN   \n",
       "\n",
       "   ReqCurrentStatus  PostingDate ClosingDate    LatestFilledDate  \\\n",
       "0            Filled          NaT         NaT 2018-11-21 10:09:40   \n",
       "1            Filled          NaT         NaT 2018-11-22 16:15:34   \n",
       "\n",
       "          ApproveDate NoOfAppComplete  \n",
       "0 2018-09-18 09:08:52               1  \n",
       "1 2018-09-18 09:08:47               1  \n",
       "\n",
       "[2 rows x 24 columns]"
      ]
     },
     "execution_count": 2,
     "metadata": {},
     "output_type": "execute_result"
    }
   ],
   "source": [
    "req.head(2)"
   ]
  },
  {
   "cell_type": "code",
   "execution_count": 3,
   "metadata": {},
   "outputs": [
    {
     "name": "stdout",
     "output_type": "stream",
     "text": [
      "Assistant Principal Special Education General Thornleigh West Public School\n",
      "Principal, School Leadership\n",
      "Assistant Principal Special Education Blacktown North Public School\n",
      "Teacher Human Society and Its Environment Penrith High School\n",
      "Teacher Special Education Maitland High School\n",
      "Teacher English/History Northern Beaches Secondary College Freshwater Senior Campus\n",
      "Teacher Special Education Lansvale East Public School\n",
      "Teacher Special Education (0.6 FTE) Cambridge Park High School\n",
      "Teacher Learning & Support Casino Public School\n",
      "Assistant Principal Special Education Coniston Public School\n",
      "Teacher PD/Health/PE Goulburn High School\n",
      "Aboriginal Education Officer\n",
      "Human Society and its Environment\n",
      "Teacher 0.4FTE Elderslie Public School\n",
      "14\n"
     ]
    }
   ],
   "source": [
    "#Splitting the \n",
    "count = 0\n",
    "for index, row in req.iterrows():\n",
    "    reqtitle = row['RequisitionTitle']\n",
    "    if '-' not in reqtitle:\n",
    "        count += 1\n",
    "        req.at[index, 'Invalid'] = reqtitle\n",
    "        req.at[index, 'SchoolName'] = ' '\n",
    "        print(reqtitle)\n",
    "    else:\n",
    "        splittedreq = reqtitle.split('- ')\n",
    "        req.at[index, 'Invalid'] = ' '\n",
    "        req.at[index, 'SchoolName'] =   splittedreq [-1]\n",
    "print(count)"
   ]
  },
  {
   "cell_type": "code",
   "execution_count": 45,
   "metadata": {},
   "outputs": [
    {
     "data": {
      "text/plain": [
       "Index(['RequisitionNO', 'RequisitionTitle', 'ReqOrgLvl2', 'ReqOrgLvl3',\n",
       "       'Category', 'Function', 'ReqJusti', 'Openings', 'Grade', 'RecType',\n",
       "       'Sourcing', 'RectrName', 'HiringMgrName', 'Contact', 'ReqEmpStatus',\n",
       "       'RoleType', 'CreationDate', 'Duration', 'ReqCurrentStatus',\n",
       "       'PostingDate', 'ClosingDate', 'LatestFilledDate', 'ApproveDate',\n",
       "       'NoOfAppComplete', 'Invalid', 'SchoolName'],\n",
       "      dtype='object')"
      ]
     },
     "execution_count": 45,
     "metadata": {},
     "output_type": "execute_result"
    }
   ],
   "source": [
    "req.columns"
   ]
  },
  {
   "cell_type": "code",
   "execution_count": 3,
   "metadata": {},
   "outputs": [],
   "source": [
    "#saving the modified file\n",
    "export_csv = req.to_csv (r'File Path\\Reqschoolupd.csv', index = None, header=True)"
   ]
  },
  {
   "cell_type": "code",
   "execution_count": 4,
   "metadata": {},
   "outputs": [],
   "source": [
    "reqfinal = pd.read_excel(\"File Path\\Reqschoolupd.xlsx\") \n",
    "#read school file with school name and code\n",
    "schools = pd.read_excel(\"File Path\\Allschools.xlsx\") "
   ]
  },
  {
   "cell_type": "code",
   "execution_count": 5,
   "metadata": {},
   "outputs": [],
   "source": [
    "#merge req file with school file to get the school code\n",
    "df_final = pd.merge(schools, reqfinal, on='SchoolName', how='left')"
   ]
  },
  {
   "cell_type": "code",
   "execution_count": 6,
   "metadata": {},
   "outputs": [],
   "source": [
    "#Save the final file\n",
    "export_csv = df_final.to_csv (r'File Path\\schreqmerged.csv', index = None, header=True)"
   ]
  },
  {
   "cell_type": "code",
   "execution_count": null,
   "metadata": {},
   "outputs": [],
   "source": []
  }
 ],
 "metadata": {
  "kernelspec": {
   "display_name": "Python 3",
   "language": "python",
   "name": "python3"
  },
  "language_info": {
   "codemirror_mode": {
    "name": "ipython",
    "version": 3
   },
   "file_extension": ".py",
   "mimetype": "text/x-python",
   "name": "python",
   "nbconvert_exporter": "python",
   "pygments_lexer": "ipython3",
   "version": "3.7.0"
  }
 },
 "nbformat": 4,
 "nbformat_minor": 2
}
